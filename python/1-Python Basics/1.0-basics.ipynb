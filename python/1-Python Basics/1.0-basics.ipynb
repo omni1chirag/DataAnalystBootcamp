{
 "cells": [
  {
   "cell_type": "code",
   "execution_count": 1,
   "metadata": {},
   "outputs": [
    {
     "name": "stdout",
     "output_type": "stream",
     "text": [
      "Hello world!!!\n"
     ]
    }
   ],
   "source": [
    "print(\"Hello world!!!\")"
   ]
  },
  {
   "cell_type": "code",
   "execution_count": 8,
   "metadata": {},
   "outputs": [
    {
     "name": "stdout",
     "output_type": "stream",
     "text": [
      "John\n",
      "Doe\n",
      "You are an adult\n",
      "End of Age program\n",
      "45\n",
      "1 2 3\n",
      "Pass statement\n",
      "Pass statement\n"
     ]
    }
   ],
   "source": [
    "## Basic sytax rules in python\n",
    "# 1. Python is case sensitive\n",
    "name = \"John\"\n",
    "Name = \"Doe\"\n",
    "print(name)\n",
    "print(Name)\n",
    "# 2. Python statements end with a newline character\n",
    "\n",
    "# 3. Python uses indentation to define code blocks\n",
    "age = 20\n",
    "if age > 18:\n",
    "    print(\"You are an adult\")\n",
    "else:\n",
    "    print(\"You are a minor\")\n",
    "print(\"End of Age program\")\n",
    "# 4. Python uses # for comments\n",
    "    # This Single is a comment\n",
    "\n",
    "# 5. Python uses triple quotes for multiline comments\n",
    "''' This is a multiline comment\n",
    "    This is a multiline comment '''\n",
    "# 6. Python uses single quotes or double quotes for strings\n",
    "# 7. Python uses backslash for line continuation\n",
    "total = 1 + 2 + 3 + \\\n",
    "        4 + 5 + 6 + \\\n",
    "        7 + 8 + 9\n",
    "print(total)    \n",
    "# 8. Python uses semicolon to put multiple statements in a single line\n",
    "a = 1; b = 2; c = 3\n",
    "print(a, b, c)\n",
    "# 9. Python uses colon to start code blocks\n",
    "# 10. Python uses pass statement to do nothing\n",
    "if True:\n",
    "    pass\n"
   ]
  },
  {
   "cell_type": "code",
   "execution_count": 13,
   "metadata": {},
   "outputs": [
    {
     "name": "stdout",
     "output_type": "stream",
     "text": [
      "<class 'int'>\n",
      "<class 'str'>\n"
     ]
    }
   ],
   "source": [
    "## Understanding Semenatics of Python\n",
    "# variable assignment\n",
    "age = 20 # age is a variable and 20 is a value\n",
    "name = \"John\" # name is a variable and \"John\" is a value\n",
    "\n",
    "type(age) # int\n",
    "type(name) # str\n",
    "\n",
    "## Type Inference\n",
    "variable = 10\n",
    "print(type(variable)) # int\n",
    "variable = \"Hello\"\n",
    "print(type(variable)) # str\n"
   ]
  },
  {
   "cell_type": "code",
   "execution_count": 15,
   "metadata": {},
   "outputs": [
    {
     "ename": "NameError",
     "evalue": "name 'y' is not defined",
     "output_type": "error",
     "traceback": [
      "\u001b[1;31m---------------------------------------------------------------------------\u001b[0m",
      "\u001b[1;31mNameError\u001b[0m                                 Traceback (most recent call last)",
      "Cell \u001b[1;32mIn[15], line 2\u001b[0m\n\u001b[0;32m      1\u001b[0m \u001b[38;5;66;03m## Name Error\u001b[39;00m\n\u001b[1;32m----> 2\u001b[0m x\u001b[38;5;241m=\u001b[39m\u001b[43my\u001b[49m\n",
      "\u001b[1;31mNameError\u001b[0m: name 'y' is not defined"
     ]
    }
   ],
   "source": [
    "## Name Error\n",
    "x=y"
   ]
  }
 ],
 "metadata": {
  "kernelspec": {
   "display_name": "Python 3",
   "language": "python",
   "name": "python3"
  },
  "language_info": {
   "codemirror_mode": {
    "name": "ipython",
    "version": 3
   },
   "file_extension": ".py",
   "mimetype": "text/x-python",
   "name": "python",
   "nbconvert_exporter": "python",
   "pygments_lexer": "ipython3",
   "version": "3.12.7"
  }
 },
 "nbformat": 4,
 "nbformat_minor": 2
}
