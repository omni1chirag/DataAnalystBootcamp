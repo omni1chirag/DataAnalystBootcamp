{
 "cells": [
  {
   "cell_type": "code",
   "execution_count": 2,
   "metadata": {},
   "outputs": [
    {
     "name": "stdout",
     "output_type": "stream",
     "text": [
      "Name: John\n",
      "Age: 32\n",
      "Height: 6.1\n",
      "isMale: True\n"
     ]
    }
   ],
   "source": [
    "## Declaring And Assigning Variables\n",
    "age = 32\n",
    "height = 6.1\n",
    "name = \"John\"\n",
    "isMale = True\n",
    "\n",
    "## Printing Variables\n",
    "print(\"Name:\", name)\n",
    "print(\"Age:\", age)\n",
    "print(\"Height:\", height)\n",
    "print(\"isMale:\", isMale)\n",
    "\n",
    "## Naming Conventions\n",
    "# 1. Variable names must start with a letter or an underscore\n",
    "# 2. Variable names can only contain letters, numbers, and underscores\n",
    "# 3. Variable names are case-sensitive\n",
    "# 4. Variable names should be descriptive\n",
    "# 5. Variable names should be in snake_case (lowercase with underscores)\n",
    "# 6. Variable names should not start with a number\n",
    "\n",
    "#valid variable names\n",
    "first_name = \"John\"\n",
    "last_name = \"Doe\"\n",
    "\n",
    "#invalid variable names\n",
    "#1name = \"John\"\n",
    "#first-name = \"John\"\n",
    "#first name = \"John\"\n",
    "#first@name = \"John\"\n",
    "\n",
    "## Constants\n",
    "# Constants are variables whose values should not change\n",
    "# Constants are written in uppercase\n",
    "PI = 3.14\n",
    "GRAVITY = 9.8\n",
    "\n",
    "## Case Sensitivity\n",
    "# Python is case-sensitive\n",
    "# This means that variables with different cases are treated as different variables\n",
    "name = \"John\"\n",
    "Name = \"Doe\"\n",
    "\n",
    "\n"
   ]
  },
  {
   "cell_type": "code",
   "execution_count": 5,
   "metadata": {},
   "outputs": [
    {
     "name": "stdout",
     "output_type": "stream",
     "text": [
      "2\n",
      "3\n",
      "1\n",
      "True\n"
     ]
    },
    {
     "ename": "ValueError",
     "evalue": "invalid literal for int() with base 10: 'John'",
     "output_type": "error",
     "traceback": [
      "\u001b[1;31m---------------------------------------------------------------------------\u001b[0m",
      "\u001b[1;31mValueError\u001b[0m                                Traceback (most recent call last)",
      "Cell \u001b[1;32mIn[5], line 18\u001b[0m\n\u001b[0;32m     15\u001b[0m \u001b[38;5;28mprint\u001b[39m(\u001b[38;5;28mbool\u001b[39m(x)) \u001b[38;5;66;03m# True - converts int to boolean \u001b[39;00m\n\u001b[0;32m     17\u001b[0m name\u001b[38;5;241m=\u001b[39m\u001b[38;5;124m\"\u001b[39m\u001b[38;5;124mJohn\u001b[39m\u001b[38;5;124m\"\u001b[39m\n\u001b[1;32m---> 18\u001b[0m \u001b[38;5;28mprint\u001b[39m(\u001b[38;5;28;43mint\u001b[39;49m\u001b[43m(\u001b[49m\u001b[43mname\u001b[49m\u001b[43m)\u001b[49m) \u001b[38;5;66;03m# Error - cannot convert string to int\u001b[39;00m\n",
      "\u001b[1;31mValueError\u001b[0m: invalid literal for int() with base 10: 'John'"
     ]
    }
   ],
   "source": [
    "## Type conversion\n",
    "# You can convert one data type to another using type conversion\n",
    "# int() - converts to integer\n",
    "# float() - converts to float\n",
    "# str() - converts to string\n",
    "# bool() - converts to boolean\n",
    "\n",
    "# Converting to int\n",
    "x = 1 # int\n",
    "y = 2.8 # float\n",
    "z = \"3\" # string\n",
    "print(int(y)) # 2   - converts float to int\n",
    "print(int(z)) # 3   - converts string to int\n",
    "print(str(x)) # \"1\" - converts int to string\n",
    "print(bool(x)) # True - converts int to boolean \n",
    "\n",
    "name=\"John\"\n",
    "print(int(name)) # Error - cannot convert string to int"
   ]
  },
  {
   "cell_type": "code",
   "execution_count": 6,
   "metadata": {},
   "outputs": [
    {
     "name": "stdout",
     "output_type": "stream",
     "text": [
      "10 <class 'int'>\n",
      "10.5 <class 'float'>\n",
      "John <class 'str'>\n"
     ]
    }
   ],
   "source": [
    "## Dynamic Typing\n",
    "# Python is a dynamically typed language\n",
    "# This means that you do not have to specify the data type of a variable when you declare it\n",
    "# The data type of a variable is determined at runtime\n",
    "# This allows you to assign different data types to the same variable\n",
    "var = 10 # int\n",
    "print(var, type(var))\n",
    "var = 10.5 # float\n",
    "print(var, type(var))\n",
    "var = \"John\" # string\n",
    "print(var, type(var))\n"
   ]
  },
  {
   "cell_type": "code",
   "execution_count": 7,
   "metadata": {},
   "outputs": [
    {
     "name": "stdout",
     "output_type": "stream",
     "text": [
      "Hello  chirag\n"
     ]
    }
   ],
   "source": [
    "## input\n",
    "# You can take user input using the input() function\n",
    "# The input() function always returns a string\n",
    "name = input(\"Enter your name: \")\n",
    "print(\"Hello \", name)"
   ]
  },
  {
   "cell_type": "code",
   "execution_count": 11,
   "metadata": {},
   "outputs": [
    {
     "name": "stdout",
     "output_type": "stream",
     "text": [
      "Sum: 14.0\n",
      "Difference: 6.0\n",
      "Product: 40.0\n",
      "Quotient: 2.5\n"
     ]
    }
   ],
   "source": [
    "## Simple Calculator\n",
    "num1 = input(\"Enter first number: \")\n",
    "num2 = input(\"Enter second number: \")\n",
    "\n",
    "sum = float(num1) + float(num2)\n",
    "sub = float(num1) - float(num2)\n",
    "mul = float(num1) * float(num2)\n",
    "div = float(num1) / float(num2)\n",
    "\n",
    "\n",
    "print(\"Sum:\", sum)\n",
    "print(\"Difference:\", sub)\n",
    "print(\"Product:\", mul)\n",
    "print(\"Quotient:\", div)\n"
   ]
  }
 ],
 "metadata": {
  "kernelspec": {
   "display_name": "Python 3",
   "language": "python",
   "name": "python3"
  },
  "language_info": {
   "codemirror_mode": {
    "name": "ipython",
    "version": 3
   },
   "file_extension": ".py",
   "mimetype": "text/x-python",
   "name": "python",
   "nbconvert_exporter": "python",
   "pygments_lexer": "ipython3",
   "version": "3.12.7"
  }
 },
 "nbformat": 4,
 "nbformat_minor": 2
}
