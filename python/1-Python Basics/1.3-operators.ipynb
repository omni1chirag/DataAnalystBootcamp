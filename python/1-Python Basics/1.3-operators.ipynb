{
 "cells": [
  {
   "cell_type": "code",
   "execution_count": 6,
   "metadata": {},
   "outputs": [
    {
     "name": "stdout",
     "output_type": "stream",
     "text": [
      "adition:  20.5\n",
      "substration: 10.5\n",
      "Multiplication:  77.5\n",
      "Division:  3.1\n",
      "floor:  3.0\n",
      "modulus:  0.5\n",
      "exponent:  894660.96875\n"
     ]
    }
   ],
   "source": [
    "## Arithmetic Operators\n",
    "a = 15.5\n",
    "b = 5\n",
    "add_result = a + b  #addition\n",
    "sub_result = a - b  #subtraction\n",
    "mul_result = a * b  #multiplication\n",
    "div_result = a / b  #division\n",
    "floor_div_result = a // b   #floor division\n",
    "mod_result = a % b  #modulus\n",
    "exponent_result = a ** b  #exponent\n",
    "\n",
    "print(\"adition: \",add_result)\n",
    "print(\"substration:\",sub_result)\n",
    "print(\"Multiplication: \",mul_result)\n",
    "print(\"Division: \",div_result)\n",
    "print(\"floor: \",floor_div_result)\n",
    "print(\"modulus: \",mod_result)\n",
    "print(\"exponent: \",exponent_result)\n"
   ]
  },
  {
   "cell_type": "code",
   "execution_count": 20,
   "metadata": {},
   "outputs": [
    {
     "name": "stdout",
     "output_type": "stream",
     "text": [
      "False\n",
      "False\n",
      "True\n"
     ]
    }
   ],
   "source": [
    "## Comparison Operators\n",
    "## ==, !=, >, <, >=, <=\n",
    "\n",
    "## Equality Operator\n",
    "a = 10\n",
    "b = 10\n",
    "a==b\n",
    "\n",
    "str1 = \"Hello\"\n",
    "str2 = \"hello\"\n",
    "print(str1 == str2)\n",
    "\n",
    "##Not Equal Operator    \n",
    "a = 10\n",
    "b = 10\n",
    "\n",
    "print(a != b)\n",
    "\n",
    "str1 = \"Hello\"\n",
    "str2 = \"hello\"\n",
    "print(str1 != str2)\n",
    "\n",
    "\n",
    "\n"
   ]
  },
  {
   "cell_type": "code",
   "execution_count": 21,
   "metadata": {},
   "outputs": [
    {
     "name": "stdout",
     "output_type": "stream",
     "text": [
      "True\n",
      "False\n"
     ]
    }
   ],
   "source": [
    "## Greater than Operator\n",
    "a = 10\n",
    "b = 5\n",
    "print(a > b)\n",
    "\n",
    "## Less than Operator\n",
    "a = 10\n",
    "b = 5\n",
    "print(a < b)"
   ]
  },
  {
   "cell_type": "code",
   "execution_count": 23,
   "metadata": {},
   "outputs": [
    {
     "name": "stdout",
     "output_type": "stream",
     "text": [
      "True\n",
      "True\n"
     ]
    }
   ],
   "source": [
    "## Greater than or Equal to Operator\n",
    "a = 10\n",
    "b = 10\n",
    "print(a >= b)\n",
    "\n",
    "## Less than or Equal to Operator\n",
    "a = 10\n",
    "b = 10\n",
    "print(a <= b)"
   ]
  },
  {
   "cell_type": "code",
   "execution_count": 25,
   "metadata": {},
   "outputs": [
    {
     "name": "stdout",
     "output_type": "stream",
     "text": [
      "True\n",
      "False\n"
     ]
    }
   ],
   "source": [
    "##Logical Operators\n",
    "## and, or, not\n",
    "\n",
    "## and Operator\n",
    "a = 10\n",
    "b = 5\n",
    "c = 15\n",
    "print(a > b and a < c)\n",
    "\n",
    "X = True\n",
    "Y = False\n",
    "print(X and Y)"
   ]
  },
  {
   "cell_type": "code",
   "execution_count": 26,
   "metadata": {},
   "outputs": [
    {
     "name": "stdout",
     "output_type": "stream",
     "text": [
      "True\n"
     ]
    }
   ],
   "source": [
    "## or Operator\n",
    "X = True\n",
    "Y = False   \n",
    "print(X or Y)\n",
    "\n"
   ]
  },
  {
   "cell_type": "code",
   "execution_count": 27,
   "metadata": {},
   "outputs": [
    {
     "name": "stdout",
     "output_type": "stream",
     "text": [
      "False\n"
     ]
    }
   ],
   "source": [
    "## not Operator\n",
    "X = True\n",
    "Y = False\n",
    "print(not X)"
   ]
  }
 ],
 "metadata": {
  "kernelspec": {
   "display_name": "Python 3",
   "language": "python",
   "name": "python3"
  },
  "language_info": {
   "codemirror_mode": {
    "name": "ipython",
    "version": 3
   },
   "file_extension": ".py",
   "mimetype": "text/x-python",
   "name": "python",
   "nbconvert_exporter": "python",
   "pygments_lexer": "ipython3",
   "version": "3.12.7"
  }
 },
 "nbformat": 4,
 "nbformat_minor": 2
}
