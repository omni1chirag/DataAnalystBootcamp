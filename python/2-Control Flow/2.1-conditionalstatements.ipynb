{
 "cells": [
  {
   "cell_type": "code",
   "execution_count": 1,
   "metadata": {},
   "outputs": [
    {
     "name": "stdout",
     "output_type": "stream",
     "text": [
      "you are allowed!\n"
     ]
    }
   ],
   "source": [
    "## if statement\n",
    "age=20\n",
    "\n",
    "if age>=18:\n",
    "    print(\"you are allowed!\")"
   ]
  },
  {
   "cell_type": "code",
   "execution_count": 2,
   "metadata": {},
   "outputs": [
    {
     "name": "stdout",
     "output_type": "stream",
     "text": [
      "you are not allowed!\n"
     ]
    }
   ],
   "source": [
    "##else statement\n",
    "##The else statement exceutes a block of code if the conditon is false.\n",
    "age=17\n",
    "\n",
    "if age>=18:\n",
    "    print(\"you are allowed!\")\n",
    "else:\n",
    "    print(\"you are not allowed!\")"
   ]
  },
  {
   "cell_type": "code",
   "execution_count": 6,
   "metadata": {},
   "outputs": [
    {
     "name": "stdout",
     "output_type": "stream",
     "text": [
      "you are a minor!\n"
     ]
    }
   ],
   "source": [
    "##elif statement\n",
    "##The elif statement allows you to check multiple expressions for TRUE and execute a block of code as soon as one of the conditions is TRUE.    \n",
    "age=19\n",
    "\n",
    "if age>20:\n",
    "    print(\"you are an adult!\")\n",
    "elif age==20:\n",
    "    print(\"you are a teenger!\")\n",
    "else:\n",
    "    print(\"you are a minor!\")"
   ]
  },
  {
   "cell_type": "code",
   "execution_count": null,
   "metadata": {},
   "outputs": [],
   "source": [
    "##short hand if\n",
    "if age>18: print(\"you are allowed!\")\n"
   ]
  },
  {
   "cell_type": "code",
   "execution_count": 8,
   "metadata": {},
   "outputs": [
    {
     "name": "stdout",
     "output_type": "stream",
     "text": [
      "you are not allowed!\n"
     ]
    }
   ],
   "source": [
    "##short hand if else\n",
    "print(\"you are allowed!\") if age>20 else print(\"you are not allowed!\")\n"
   ]
  },
  {
   "cell_type": "code",
   "execution_count": 12,
   "metadata": {},
   "outputs": [
    {
     "name": "stdout",
     "output_type": "stream",
     "text": [
      "The number is zero\n"
     ]
    }
   ],
   "source": [
    "## Nested Conditional Statements\n",
    "# you can place one or multiple if, else, elif statements inside another conditional statement.\n",
    "num = int(input(\"Enter a number: \"))\n",
    "\n",
    "if num > 0:\n",
    "    print(\"The number is positive\")\n",
    "    if num%2==0:\n",
    "        print(\"The number is even\")\n",
    "    else:\n",
    "        print(\"The number is odd\")\n",
    "elif num == 0:\n",
    "    print(\"The number is zero\")\n",
    "else:\n",
    "    print(\"The number is negative or zero\")\n",
    "\n"
   ]
  },
  {
   "cell_type": "markdown",
   "metadata": {},
   "source": [
    "Practical Examples:"
   ]
  },
  {
   "cell_type": "code",
   "execution_count": 15,
   "metadata": {},
   "outputs": [
    {
     "name": "stdout",
     "output_type": "stream",
     "text": [
      "2004 is a leap year!!\n"
     ]
    }
   ],
   "source": [
    "##Determin if a year is a leap year using nested conditional statements\n",
    "year = int(input(\"Enter a year: \"))\n",
    "if year%4==0:\n",
    "    if year%100==0:\n",
    "        if year%400==0:\n",
    "            print(year, \"is a leap year!\")\n",
    "        else:\n",
    "            print(year, \"is not a leap year!\")\n",
    "    else:\n",
    "        print(year, \"is a leap year!!\")\n",
    "else:\n",
    "    print(year, \"is not a leap year!!\")"
   ]
  },
  {
   "cell_type": "code",
   "execution_count": 16,
   "metadata": {},
   "outputs": [
    {
     "name": "stdout",
     "output_type": "stream",
     "text": [
      "5.0 / 8.0 = 0.625\n"
     ]
    }
   ],
   "source": [
    "##Assignment\n",
    "## Simple Calculator program using conditional statements\n",
    "\n",
    "num1 = float(input(\"Enter first number: \"))\n",
    "num2 = float(input(\"Enter second number: \"))\n",
    "operator = input(\"Enter operator (+, -, *, /): \")\n",
    "\n",
    "if operator == '+':\n",
    "    print(num1, \"+\", num2, \"=\", num1+num2) \n",
    "elif operator == '-':\n",
    "    print(num1, \"-\", num2, \"=\", num1-num2)\n",
    "elif operator == '*':\n",
    "    print(num1, \"*\", num2, \"=\", num1*num2)\n",
    "elif operator == '/':\n",
    "    if num2!=0:\n",
    "        print(num1, \"/\", num2, \"=\", num1/num2)\n",
    "    else:  \n",
    "        print(\"Division by zero is not allowed!\")\n",
    "else:\n",
    "    print(\"Invalid operator!!\")\n"
   ]
  }
 ],
 "metadata": {
  "kernelspec": {
   "display_name": "Python 3",
   "language": "python",
   "name": "python3"
  },
  "language_info": {
   "codemirror_mode": {
    "name": "ipython",
    "version": 3
   },
   "file_extension": ".py",
   "mimetype": "text/x-python",
   "name": "python",
   "nbconvert_exporter": "python",
   "pygments_lexer": "ipython3",
   "version": "3.12.7"
  }
 },
 "nbformat": 4,
 "nbformat_minor": 2
}
